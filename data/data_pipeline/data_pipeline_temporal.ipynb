{
 "cells": [
  {
   "metadata": {
    "ExecuteTime": {
     "end_time": "2025-10-07T17:02:02.121495Z",
     "start_time": "2025-10-07T17:02:01.856026Z"
    }
   },
   "cell_type": "code",
   "source": [
    "from data_pipeline import DataPipeline\n",
    "\n",
    "\n",
    "YEARS = ['2023']\n",
    "ROUTES = ['M15', 'QM1', 'Q58']\n",
    "BASE_PATH = \"../../data\"\n",
    "\n",
    "pipeline = DataPipeline(years=YEARS, routes=ROUTES, base_path=BASE_PATH)\n",
    "pipeline.run()"
   ],
   "id": "c5100ac10bb21424",
   "outputs": [
    {
     "name": "stdout",
     "output_type": "stream",
     "text": [
      "🚀 Iniciando pipeline robusta...\n",
      "🔄 Reanudando trabajo. Última semana completada: 53\n",
      "⏭️  Saltando semana 1/53 (ya procesada)...\n",
      "⏭️  Saltando semana 2/53 (ya procesada)...\n",
      "⏭️  Saltando semana 3/53 (ya procesada)...\n",
      "⏭️  Saltando semana 4/53 (ya procesada)...\n",
      "⏭️  Saltando semana 5/53 (ya procesada)...\n",
      "⏭️  Saltando semana 6/53 (ya procesada)...\n",
      "⏭️  Saltando semana 7/53 (ya procesada)...\n",
      "⏭️  Saltando semana 8/53 (ya procesada)...\n",
      "⏭️  Saltando semana 9/53 (ya procesada)...\n",
      "⏭️  Saltando semana 10/53 (ya procesada)...\n",
      "⏭️  Saltando semana 11/53 (ya procesada)...\n",
      "⏭️  Saltando semana 12/53 (ya procesada)...\n",
      "⏭️  Saltando semana 13/53 (ya procesada)...\n",
      "⏭️  Saltando semana 14/53 (ya procesada)...\n",
      "⏭️  Saltando semana 15/53 (ya procesada)...\n",
      "⏭️  Saltando semana 16/53 (ya procesada)...\n",
      "⏭️  Saltando semana 17/53 (ya procesada)...\n",
      "⏭️  Saltando semana 18/53 (ya procesada)...\n",
      "⏭️  Saltando semana 19/53 (ya procesada)...\n",
      "⏭️  Saltando semana 20/53 (ya procesada)...\n",
      "⏭️  Saltando semana 21/53 (ya procesada)...\n",
      "⏭️  Saltando semana 22/53 (ya procesada)...\n",
      "⏭️  Saltando semana 23/53 (ya procesada)...\n",
      "⏭️  Saltando semana 24/53 (ya procesada)...\n",
      "⏭️  Saltando semana 25/53 (ya procesada)...\n",
      "⏭️  Saltando semana 26/53 (ya procesada)...\n",
      "⏭️  Saltando semana 27/53 (ya procesada)...\n",
      "⏭️  Saltando semana 28/53 (ya procesada)...\n",
      "⏭️  Saltando semana 29/53 (ya procesada)...\n",
      "⏭️  Saltando semana 30/53 (ya procesada)...\n",
      "⏭️  Saltando semana 31/53 (ya procesada)...\n",
      "⏭️  Saltando semana 32/53 (ya procesada)...\n",
      "⏭️  Saltando semana 33/53 (ya procesada)...\n",
      "⏭️  Saltando semana 34/53 (ya procesada)...\n",
      "⏭️  Saltando semana 35/53 (ya procesada)...\n",
      "⏭️  Saltando semana 36/53 (ya procesada)...\n",
      "⏭️  Saltando semana 37/53 (ya procesada)...\n",
      "⏭️  Saltando semana 38/53 (ya procesada)...\n",
      "⏭️  Saltando semana 39/53 (ya procesada)...\n",
      "⏭️  Saltando semana 40/53 (ya procesada)...\n",
      "⏭️  Saltando semana 41/53 (ya procesada)...\n",
      "⏭️  Saltando semana 42/53 (ya procesada)...\n",
      "⏭️  Saltando semana 43/53 (ya procesada)...\n",
      "⏭️  Saltando semana 44/53 (ya procesada)...\n",
      "⏭️  Saltando semana 45/53 (ya procesada)...\n",
      "⏭️  Saltando semana 46/53 (ya procesada)...\n",
      "⏭️  Saltando semana 47/53 (ya procesada)...\n",
      "⏭️  Saltando semana 48/53 (ya procesada)...\n",
      "⏭️  Saltando semana 49/53 (ya procesada)...\n",
      "⏭️  Saltando semana 50/53 (ya procesada)...\n",
      "⏭️  Saltando semana 51/53 (ya procesada)...\n",
      "⏭️  Saltando semana 52/53 (ya procesada)...\n",
      "⏭️  Saltando semana 53/53 (ya procesada)...\n",
      "\n",
      "--- Consolidación Final ---\n",
      "Lista de archivos temporales: [PosixPath('../../data/_tmp/2023_week_32.parquet'), PosixPath('../../data/_tmp/2023_week_40.parquet'), PosixPath('../../data/_tmp/2023_week_22.parquet'), PosixPath('../../data/_tmp/2023_week_2.parquet'), PosixPath('../../data/_tmp/2023_week_13.parquet'), PosixPath('../../data/_tmp/2023_week_12.parquet'), PosixPath('../../data/_tmp/2023_week_50.parquet'), PosixPath('../../data/_tmp/2023_week_23.parquet'), PosixPath('../../data/_tmp/2023_week_19.parquet'), PosixPath('../../data/_tmp/2023_week_46.parquet'), PosixPath('../../data/_tmp/2023_week_9.parquet'), PosixPath('../../data/_tmp/2023_week_21.parquet'), PosixPath('../../data/_tmp/2023_week_30.parquet'), PosixPath('../../data/_tmp/2023_week_28.parquet'), PosixPath('../../data/_tmp/2023_week_4.parquet'), PosixPath('../../data/_tmp/2023_week_41.parquet'), PosixPath('../../data/_tmp/2023_week_38.parquet'), PosixPath('../../data/_tmp/2023_week_35.parquet'), PosixPath('../../data/_tmp/2023_week_33.parquet'), PosixPath('../../data/_tmp/2023_week_26.parquet'), PosixPath('../../data/_tmp/2023_week_34.parquet'), PosixPath('../../data/_tmp/2023_week_44.parquet'), PosixPath('../../data/_tmp/2023_week_25.parquet'), PosixPath('../../data/_tmp/2023_week_7.parquet'), PosixPath('../../data/_tmp/2023_week_52.parquet'), PosixPath('../../data/_tmp/2023_week_37.parquet'), PosixPath('../../data/_tmp/2023_week_0.parquet'), PosixPath('../../data/_tmp/2023_week_31.parquet'), PosixPath('../../data/_tmp/2023_week_36.parquet'), PosixPath('../../data/_tmp/2023_week_47.parquet'), PosixPath('../../data/_tmp/2023_week_29.parquet'), PosixPath('../../data/_tmp/2023_week_49.parquet'), PosixPath('../../data/_tmp/2023_week_11.parquet'), PosixPath('../../data/_tmp/2023_week_51.parquet'), PosixPath('../../data/_tmp/2023_week_10.parquet'), PosixPath('../../data/_tmp/2023_week_42.parquet'), PosixPath('../../data/_tmp/2023_week_17.parquet'), PosixPath('../../data/_tmp/2023_week_1.parquet'), PosixPath('../../data/_tmp/2023_week_3.parquet'), PosixPath('../../data/_tmp/2023_week_48.parquet'), PosixPath('../../data/_tmp/2023_week_45.parquet'), PosixPath('../../data/_tmp/2023_week_20.parquet'), PosixPath('../../data/_tmp/2023_week_27.parquet'), PosixPath('../../data/_tmp/2023_week_18.parquet'), PosixPath('../../data/_tmp/2023_week_39.parquet'), PosixPath('../../data/_tmp/2023_week_6.parquet'), PosixPath('../../data/_tmp/2023_week_5.parquet'), PosixPath('../../data/_tmp/2023_week_15.parquet'), PosixPath('../../data/_tmp/2023_week_16.parquet'), PosixPath('../../data/_tmp/2023_week_14.parquet'), PosixPath('../../data/_tmp/2023_week_43.parquet'), PosixPath('../../data/_tmp/2023_week_24.parquet'), PosixPath('../../data/_tmp/2023_week_8.parquet')]\n",
      "  > Uniendo 53 archivos semanales...\n",
      "✅ ¡Éxito! Dataset final guardado en: ../../data/ridership_enriched_final.parquet\n"
     ]
    }
   ],
   "execution_count": 1
  },
  {
   "metadata": {
    "ExecuteTime": {
     "end_time": "2025-10-07T17:03:41.627973Z",
     "start_time": "2025-10-07T17:03:41.597189Z"
    }
   },
   "cell_type": "code",
   "source": [
    "import pandas as pd\n",
    "\n",
    "# Define la ruta a tu dataset final\n",
    "final_path = \"../../data/ridership_enriched_final.parquet\"\n",
    "\n",
    "print(f\"Cargando datos desde: {final_path}\")\n",
    "df = pd.read_parquet(final_path)\n",
    "\n",
    "print(\"\\n--- Información del DataFrame ---\")\n",
    "df.info()\n",
    "\n",
    "print(\"\\n--- Primeras 5 filas ---\")\n",
    "print(df.head())\n",
    "\n",
    "print(f\"\\n¡Éxito! Se cargaron {len(df)} filas.\")"
   ],
   "id": "c51126694ce9a08b",
   "outputs": [
    {
     "name": "stdout",
     "output_type": "stream",
     "text": [
      "Cargando datos desde: ../../data/ridership_enriched_final.parquet\n",
      "\n",
      "--- Información del DataFrame ---\n",
      "<class 'pandas.core.frame.DataFrame'>\n",
      "Index: 630720 entries, 313394 to 297182\n",
      "Data columns (total 17 columns):\n",
      " #   Column                Non-Null Count   Dtype         \n",
      "---  ------                --------------   -----         \n",
      " 0   transit_timestamp     630720 non-null  datetime64[ns]\n",
      " 1   ridership             630720 non-null  uint32        \n",
      " 2   transfers             630720 non-null  uint32        \n",
      " 3   hour                  630720 non-null  uint8         \n",
      " 4   day_of_week           630720 non-null  uint8         \n",
      " 5   month                 630720 non-null  uint8         \n",
      " 6   is_weekend            630720 non-null  bool          \n",
      " 7   is_holiday            630720 non-null  bool          \n",
      " 8   temperature_2m        630720 non-null  float32       \n",
      " 9   relative_humidity_2m  630720 non-null  float32       \n",
      " 10  precipitation         630720 non-null  float32       \n",
      " 11  rain                  630720 non-null  float32       \n",
      " 12  snowfall              630720 non-null  float32       \n",
      " 13  weather_code          630720 non-null  uint8         \n",
      " 14  wind_speed_10m        630720 non-null  float32       \n",
      " 15  year                  630720 non-null  category      \n",
      " 16  bus_route             630720 non-null  category      \n",
      "dtypes: bool(2), category(2), datetime64[ns](1), float32(6), uint32(2), uint8(4)\n",
      "memory usage: 33.7 MB\n",
      "\n",
      "--- Primeras 5 filas ---\n",
      "       transit_timestamp  ridership  transfers  hour  day_of_week  month  \\\n",
      "313394        2023-01-01        213         24     0            6      1   \n",
      "313528        2023-01-01         36          2     0            6      1   \n",
      "313650        2023-01-01         23          0     0            6      1   \n",
      "313533        2023-01-01         20          0     0            6      1   \n",
      "313809        2023-01-01         19          0     0            6      1   \n",
      "\n",
      "        is_weekend  is_holiday  temperature_2m  relative_humidity_2m  \\\n",
      "313394        True        True             9.9                 100.0   \n",
      "313528        True        True             9.9                 100.0   \n",
      "313650        True        True             9.9                 100.0   \n",
      "313533        True        True             9.9                 100.0   \n",
      "313809        True        True             9.9                 100.0   \n",
      "\n",
      "        precipitation  rain  snowfall  weather_code  wind_speed_10m  year  \\\n",
      "313394            0.4   0.4       0.0            51             7.4  2023   \n",
      "313528            0.4   0.4       0.0            51             7.4  2023   \n",
      "313650            0.4   0.4       0.0            51             7.4  2023   \n",
      "313533            0.4   0.4       0.0            51             7.4  2023   \n",
      "313809            0.4   0.4       0.0            51             7.4  2023   \n",
      "\n",
      "       bus_route  \n",
      "313394       M15  \n",
      "313528       M15  \n",
      "313650       M15  \n",
      "313533       M15  \n",
      "313809       M15  \n",
      "\n",
      "¡Éxito! Se cargaron 630720 filas.\n"
     ]
    }
   ],
   "execution_count": 3
  }
 ],
 "metadata": {
  "kernelspec": {
   "display_name": "Python 3",
   "language": "python",
   "name": "python3"
  },
  "language_info": {
   "codemirror_mode": {
    "name": "ipython",
    "version": 2
   },
   "file_extension": ".py",
   "mimetype": "text/x-python",
   "name": "python",
   "nbconvert_exporter": "python",
   "pygments_lexer": "ipython2",
   "version": "2.7.6"
  }
 },
 "nbformat": 4,
 "nbformat_minor": 5
}
