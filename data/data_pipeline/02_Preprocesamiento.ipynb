{
 "cells": [
  {
   "metadata": {
    "ExecuteTime": {
     "end_time": "2025-10-07T17:49:16.826718Z",
     "start_time": "2025-10-07T17:49:16.778241Z"
    }
   },
   "cell_type": "code",
   "source": [
    "import pandas as pd\n",
    "\n",
    "# Carga el dataset enriquecido (los datos crudos)\n",
    "raw_enriched_path = \"../../data/ridership_enriched_final.parquet\"\n",
    "df = pd.read_parquet(raw_enriched_path)\n",
    "\n",
    "print(f\"Número de filas crudas a procesar: {len(df)}\")\n",
    "\n",
    "# --- ¡LA SOLUCIÓN! ---\n",
    "# 1. Filtramos las filas \"placeholder\" que no tienen actividad.\n",
    "#    Nos quedamos solo con los registros donde al menos un pasajero subió.\n",
    "df_filtered = df[df['ridership'] > 0].copy()\n",
    "print(f\"Número de filas con actividad real: {len(df_filtered)}\")\n",
    "\n",
    "# 2. Crea la columna de timestamp redondeada a la hora en el DF filtrado\n",
    "df_filtered['hour_timestamp'] = df_filtered['transit_timestamp'].dt.floor('h')\n",
    "\n",
    "# 3. Agrupa el DF FILTRADO\n",
    "df_agg = df_filtered.groupby(['bus_route', 'hour_timestamp'], observed=False).agg(\n",
    "    ridership_total=('ridership', 'sum'),\n",
    "    transfers_total=('transfers', 'sum'),\n",
    "    operating_buses=('bus_route', 'count')\n",
    ").reset_index()\n",
    "\n",
    "# 4. Une las variables enriquecidas\n",
    "enriched_cols = [\n",
    "    'hour', 'day_of_week', 'month', 'year', 'is_weekend', 'is_holiday',\n",
    "    'temperature_2m', 'relative_humidity_2m', 'precipitation', 'rain',\n",
    "    'snowfall', 'weather_code', 'wind_speed_10m'\n",
    "]\n",
    "df_enriched_unique = df_filtered.drop_duplicates(subset=['bus_route', 'hour_timestamp'])\n",
    "df_model_input = pd.merge(\n",
    "    df_agg,\n",
    "    df_enriched_unique[['bus_route', 'hour_timestamp'] + enriched_cols],\n",
    "    on=['bus_route', 'hour_timestamp']\n",
    ")\n",
    "\n",
    "# 5. Ordena y analiza la nueva y correcta columna 'operating_buses'\n",
    "df_model_input.sort_values(by=['bus_route', 'hour_timestamp'], inplace=True)\n",
    "print(\"\\n--- ANÁLISIS FINAL de la nueva columna 'operating_buses' ---\")\n",
    "print(df_model_input['operating_buses'].describe())\n",
    "print(\"\\n--- Frecuencia de Valores (Top 10) ---\")\n",
    "print(df_model_input['operating_buses'].value_counts().head(10))\n",
    "\n",
    "# 6. Guarda el DataFrame final\n",
    "model_input_path = \"../../data/model_input.parquet\"\n",
    "df_model_input.to_parquet(model_input_path, index=False)\n",
    "print(f\"\\n✅ Dataset final para el modelo (CORREGIDO) guardado en: {model_input_path}\")"
   ],
   "id": "a85f50751fea39df",
   "outputs": [
    {
     "name": "stdout",
     "output_type": "stream",
     "text": [
      "Número de filas crudas a procesar: 630720\n",
      "Número de filas con actividad real: 148331\n",
      "\n",
      "--- ANÁLISIS FINAL de la nueva columna 'operating_buses' ---\n",
      "count    19632.000000\n",
      "mean         7.555573\n",
      "std          1.818623\n",
      "min          1.000000\n",
      "25%          7.000000\n",
      "50%          8.000000\n",
      "75%          9.000000\n",
      "max         10.000000\n",
      "Name: operating_buses, dtype: float64\n",
      "\n",
      "--- Frecuencia de Valores (Top 10) ---\n",
      "operating_buses\n",
      "9     7225\n",
      "8     5035\n",
      "7     3515\n",
      "5     1028\n",
      "6      999\n",
      "4      525\n",
      "3      417\n",
      "10     307\n",
      "1      296\n",
      "2      285\n",
      "Name: count, dtype: int64\n",
      "\n",
      "✅ Dataset final para el modelo (CORREGIDO) guardado en: ../../data/model_input.parquet\n"
     ]
    }
   ],
   "execution_count": 4
  }
 ],
 "metadata": {
  "kernelspec": {
   "name": "python3",
   "language": "python",
   "display_name": "Python 3 (ipykernel)"
  }
 },
 "nbformat": 4,
 "nbformat_minor": 5
}
