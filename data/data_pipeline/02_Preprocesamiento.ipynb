{
 "cells": [
  {
   "metadata": {
    "ExecuteTime": {
     "end_time": "2025-10-07T17:10:24.782052Z",
     "start_time": "2025-10-07T17:10:24.717766Z"
    }
   },
   "cell_type": "code",
   "source": [
    "import pandas as pd\n",
    "\n",
    "# Carga el dataset enriquecido\n",
    "final_path = \"../../data/ridership_enriched_final.parquet\"\n",
    "df = pd.read_parquet(final_path)\n",
    "\n",
    "print(f\"Número de filas antes de agregar: {len(df)}\")\n",
    "\n",
    "# 1. Crea una columna de timestamp redondeada a la hora para agrupar\n",
    "#    SOLUCIÓN 1: Cambiamos 'H' por 'h' minúscula.\n",
    "df['hour_timestamp'] = df['transit_timestamp'].dt.floor('h')\n",
    "\n",
    "# 2. Agrupa por ruta y por la nueva columna de hora\n",
    "#    SOLUCIÓN 2: Añadimos explícitamente `observed=False`.\n",
    "df_agg = df.groupby(['bus_route', 'hour_timestamp'], observed=False).agg(\n",
    "    ridership_total=('ridership', 'sum'),\n",
    "    transfers_total=('transfers', 'sum'),\n",
    "    operating_buses=('bus_route', 'count')\n",
    ").reset_index()\n",
    "\n",
    "# 3. Une las variables enriquecidas\n",
    "enriched_cols = [\n",
    "    'hour', 'day_of_week', 'month', 'year', 'is_weekend', 'is_holiday',\n",
    "    'temperature_2m', 'relative_humidity_2m', 'precipitation', 'rain',\n",
    "    'snowfall', 'weather_code', 'wind_speed_10m'\n",
    "]\n",
    "df_enriched_unique = df.drop_duplicates(subset=['bus_route', 'hour_timestamp'])\n",
    "df_model_input = pd.merge(\n",
    "    df_agg,\n",
    "    df_enriched_unique[['bus_route', 'hour_timestamp'] + enriched_cols],\n",
    "    on=['bus_route', 'hour_timestamp']\n",
    ")\n",
    "\n",
    "# 4. Ordenamos el resultado final\n",
    "df_model_input.sort_values(by=['bus_route', 'hour_timestamp'], inplace=True)\n",
    "\n",
    "print(f\"\\nNúmero de filas después de agregar: {len(df_model_input)}\")\n",
    "print(\"\\nDataFrame final listo para el modelo:\")\n",
    "print(df_model_input.head())\n",
    "\n",
    "# 5. Guarda este DataFrame final\n",
    "model_input_path = \"../../data/model_input.parquet\"\n",
    "df_model_input.to_parquet(model_input_path, index=False)\n",
    "print(f\"\\nDataset para el modelo guardado en: {model_input_path}\")"
   ],
   "id": "2c8683be927c6b5b",
   "outputs": [
    {
     "name": "stdout",
     "output_type": "stream",
     "text": [
      "Número de filas antes de agregar: 630720\n",
      "\n",
      "Número de filas después de agregar: 26280\n",
      "\n",
      "DataFrame final listo para el modelo:\n",
      "  bus_route      hour_timestamp  ridership_total  transfers_total  \\\n",
      "0       M15 2023-01-01 00:00:00              323               26   \n",
      "1       M15 2023-01-01 01:00:00              300               22   \n",
      "2       M15 2023-01-01 02:00:00              144               19   \n",
      "3       M15 2023-01-01 03:00:00              101               18   \n",
      "4       M15 2023-01-01 04:00:00               38                0   \n",
      "\n",
      "   operating_buses  hour  day_of_week  month  year  is_weekend  is_holiday  \\\n",
      "0               24     0            6      1  2023        True        True   \n",
      "1               24     1            6      1  2023        True        True   \n",
      "2               24     2            6      1  2023        True        True   \n",
      "3               24     3            6      1  2023        True        True   \n",
      "4               24     4            6      1  2023        True        True   \n",
      "\n",
      "   temperature_2m  relative_humidity_2m  precipitation  rain  snowfall  \\\n",
      "0             9.9                 100.0            0.4   0.4       0.0   \n",
      "1            10.8                 100.0            1.1   1.1       0.0   \n",
      "2            11.0                  99.0            0.6   0.6       0.0   \n",
      "3            10.9                  98.0            2.1   2.1       0.0   \n",
      "4            10.7                  99.0            1.1   1.1       0.0   \n",
      "\n",
      "   weather_code  wind_speed_10m  \n",
      "0            51             7.4  \n",
      "1            55            11.3  \n",
      "2            53            10.5  \n",
      "3            61            12.0  \n",
      "4            55            11.7  \n",
      "\n",
      "Dataset para el modelo guardado en: ../../data/model_input.parquet\n"
     ]
    }
   ],
   "execution_count": 2
  }
 ],
 "metadata": {
  "kernelspec": {
   "name": "python3",
   "language": "python",
   "display_name": "Python 3 (ipykernel)"
  }
 },
 "nbformat": 4,
 "nbformat_minor": 5
}
