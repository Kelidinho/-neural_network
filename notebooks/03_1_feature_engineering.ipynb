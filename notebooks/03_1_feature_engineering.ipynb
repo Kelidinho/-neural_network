{
 "cells": [
  {
   "cell_type": "code",
   "id": "initial_id",
   "metadata": {
    "collapsed": true,
    "ExecuteTime": {
     "end_time": "2025-10-15T21:40:55.185906Z",
     "start_time": "2025-10-15T21:40:55.158753Z"
    }
   },
   "source": [
    "# ===================================================================\n",
    "# PASO 1: Cargar los datos originales\n",
    "# ===================================================================\n",
    "import pandas as pd\n",
    "import numpy as np\n",
    "\n",
    "model_input_path = \"../data/model_input.parquet\"\n",
    "df_features = pd.read_parquet(model_input_path)\n",
    "df_features = df_features.sort_values(by=['bus_route', 'hour_timestamp'])\n",
    "\n",
    "\n",
    "# ===================================================================\n",
    "# PASO 2: Crear características que NO generan NaNs\n",
    "# ===================================================================\n",
    "\n",
    "# --- Características Cíclicas ---\n",
    "df_features['day_of_week_sin'] = np.sin(2 * np.pi * df_features['day_of_week'] / 7)\n",
    "df_features['day_of_week_cos'] = np.cos(2 * np.pi * df_features['day_of_week'] / 7)\n",
    "df_features['hour_sin'] = np.sin(2 * np.pi * df_features['hour'] / 24)\n",
    "df_features['hour_cos'] = np.cos(2 * np.pi * df_features['hour'] / 24)\n",
    "df_features['month_sin'] = np.sin(2 * np.pi * df_features['month'] / 12)\n",
    "df_features['month_cos'] = np.cos(2 * np.pi * df_features['month'] / 12)\n",
    "\n",
    "# --- Características de Clima Refinadas ---\n",
    "bin_edges = [-1, 0, 1, 5, float('inf')]\n",
    "bin_labels = ['0_no_rain', '1_light_rain', '2_moderate_rain', '3_heavy_rain']\n",
    "df_features['precipitation_category'] = pd.cut(df_features['precipitation'], bins=bin_edges, labels=bin_labels)\n",
    "df_features['temp_wind_interaction'] = df_features['temperature_2m'] / (df_features['wind_speed_10m'] + 1)\n",
    "\n",
    "# --- Características de Festivos ---\n",
    "holidays = df_features[df_features['is_holiday']].hour_timestamp\n",
    "ts = pd.Series(index=df_features.index, dtype='datetime64[ns]')\n",
    "ts.loc[holidays.index] = holidays.values\n",
    "last_holiday = ts.ffill()\n",
    "next_holiday = ts.bfill()\n",
    "df_features['days_since_last_holiday'] = (df_features['hour_timestamp'] - last_holiday).dt.days\n",
    "df_features['days_until_next_holiday'] = (next_holiday - df_features['hour_timestamp']).dt.days\n",
    "df_features['days_since_last_holiday'] = df_features['days_since_last_holiday'].fillna(999)\n",
    "df_features['days_until_next_holiday'] = df_features['days_until_next_holiday'].fillna(999)\n",
    "\n",
    "\n",
    "# ===================================================================\n",
    "# PASO 3: Crear características que SÍ generan NaNs\n",
    "# ===================================================================\n",
    "\n",
    "# --- Lags ---\n",
    "df_features['ridership_lag_1h'] = df_features.groupby('bus_route', observed=False)['ridership_total'].shift(1)\n",
    "df_features['ridership_lag_24h'] = df_features.groupby('bus_route', observed=False)['ridership_total'].shift(24)\n",
    "df_features['ridership_lag_1w'] = df_features.groupby('bus_route', observed=False)['ridership_total'].shift(24*7)\n",
    "\n",
    "# --- Ventana Móvil ---\n",
    "WINDOW_SIZE_7D = 24 * 7\n",
    "df_features['ridership_roll_mean_7d'] = df_features.groupby('bus_route', observed=False)['ridership_total'].rolling(window=WINDOW_SIZE_7D).mean().reset_index(level=0, drop=True)\n",
    "\n",
    "\n",
    "# ===================================================================\n",
    "# PASO 4: Limpiar todos los NaNs de una sola vez\n",
    "# ===================================================================\n",
    "print(f\"Filas antes de la limpieza final: {len(df_features)}\")\n",
    "df_features = df_features.dropna()\n",
    "print(f\"Filas después de la limpieza final: {len(df_features)}\")\n",
    "\n",
    "\n",
    "# ===================================================================\n",
    "# PASO 5: Comprobar el resultado\n",
    "# ===================================================================\n",
    "# Ahora el resultado para los festivos debería ser correcto\n",
    "print(\"\\nComprobación de las características de festivos (resultado corregido):\")\n",
    "print(df_features[['hour_timestamp', 'is_holiday', 'days_since_last_holiday', 'days_until_next_holiday']].head())"
   ],
   "outputs": [
    {
     "name": "stdout",
     "output_type": "stream",
     "text": [
      "Filas antes de la limpieza final: 19632\n",
      "Filas después de la limpieza final: 19128\n",
      "\n",
      "Comprobación de las características de festivos (resultado corregido):\n",
      "         hour_timestamp  is_holiday  days_since_last_holiday  \\\n",
      "168 2023-01-08 00:00:00       False                        5   \n",
      "169 2023-01-08 01:00:00       False                        5   \n",
      "170 2023-01-08 02:00:00       False                        5   \n",
      "171 2023-01-08 03:00:00       False                        5   \n",
      "172 2023-01-08 04:00:00       False                        5   \n",
      "\n",
      "     days_until_next_holiday  \n",
      "168                      8.0  \n",
      "169                      7.0  \n",
      "170                      7.0  \n",
      "171                      7.0  \n",
      "172                      7.0  \n"
     ]
    }
   ],
   "execution_count": 1
  },
  {
   "metadata": {
    "ExecuteTime": {
     "end_time": "2025-10-15T21:49:57.737783Z",
     "start_time": "2025-10-15T21:49:57.730386Z"
    }
   },
   "cell_type": "code",
   "source": [
    "# Limpieza de dataFrame y tipación de datos.\n",
    "\n",
    "# Lista de columnas a eliminar\n",
    "columns_to_drop = [\n",
    "    'hour_timestamp', 'operating_buses', 'transfers_total', 'hour',\n",
    "    'day_of_week', 'month', 'year', 'precipitation', 'rain', 'snowfall'\n",
    "]\n",
    "\n",
    "# Creamos el DataFrame final para el modelo\n",
    "df_model = df_features.drop(columns=columns_to_drop)\n",
    "\n",
    "print(\"DataFrame después de eliminar columnas redundantes:\")\n",
    "df_model.info()"
   ],
   "id": "a975ba60552b34dc",
   "outputs": [
    {
     "name": "stdout",
     "output_type": "stream",
     "text": [
      "DataFrame después de eliminar columnas redundantes:\n",
      "<class 'pandas.core.frame.DataFrame'>\n",
      "Index: 19128 entries, 168 to 19631\n",
      "Data columns (total 22 columns):\n",
      " #   Column                   Non-Null Count  Dtype   \n",
      "---  ------                   --------------  -----   \n",
      " 0   bus_route                19128 non-null  category\n",
      " 1   ridership_total          19128 non-null  uint32  \n",
      " 2   is_weekend               19128 non-null  bool    \n",
      " 3   is_holiday               19128 non-null  bool    \n",
      " 4   temperature_2m           19128 non-null  float32 \n",
      " 5   relative_humidity_2m     19128 non-null  float32 \n",
      " 6   weather_code             19128 non-null  uint8   \n",
      " 7   wind_speed_10m           19128 non-null  float32 \n",
      " 8   day_of_week_sin          19128 non-null  float64 \n",
      " 9   day_of_week_cos          19128 non-null  float64 \n",
      " 10  hour_sin                 19128 non-null  float64 \n",
      " 11  hour_cos                 19128 non-null  float64 \n",
      " 12  month_sin                19128 non-null  float64 \n",
      " 13  month_cos                19128 non-null  float64 \n",
      " 14  precipitation_category   19128 non-null  category\n",
      " 15  temp_wind_interaction    19128 non-null  float32 \n",
      " 16  days_since_last_holiday  19128 non-null  int64   \n",
      " 17  days_until_next_holiday  19128 non-null  float64 \n",
      " 18  ridership_lag_1h         19128 non-null  float64 \n",
      " 19  ridership_lag_24h        19128 non-null  float64 \n",
      " 20  ridership_lag_1w         19128 non-null  float64 \n",
      " 21  ridership_roll_mean_7d   19128 non-null  float64 \n",
      "dtypes: bool(2), category(2), float32(4), float64(11), int64(1), uint32(1), uint8(1)\n",
      "memory usage: 2.4 MB\n"
     ]
    }
   ],
   "execution_count": 2
  },
  {
   "metadata": {
    "ExecuteTime": {
     "end_time": "2025-10-15T21:54:01.930156Z",
     "start_time": "2025-10-15T21:54:01.920947Z"
    }
   },
   "cell_type": "code",
   "source": [
    "# --- Optimización Final de Tipos de Datos ---\n",
    "\n",
    "# Definimos el esquema de tipos de datos óptimo\n",
    "final_schema = {\n",
    "    'ridership_total': 'uint32',\n",
    "    'is_weekend': 'uint8',\n",
    "    'is_holiday': 'uint8',\n",
    "    'temperature_2m': 'float32',\n",
    "    'relative_humidity_2m': 'float32',\n",
    "    'weather_code': 'uint8',\n",
    "    'wind_speed_10m': 'float32',\n",
    "    'day_of_week_sin': 'float32',\n",
    "    'day_of_week_cos': 'float32',\n",
    "    'hour_sin': 'float32',\n",
    "    'hour_cos': 'float32',\n",
    "    'month_sin': 'float32',\n",
    "    'month_cos': 'float32',\n",
    "    'precipitation_category': 'category',\n",
    "    'temp_wind_interaction': 'float32',\n",
    "    'days_since_last_holiday': 'uint16',\n",
    "    'days_until_next_holiday': 'uint16',\n",
    "    'ridership_lag_1h': 'float32',\n",
    "    'ridership_lag_24h': 'float32',\n",
    "    'ridership_lag_1w': 'float32',\n",
    "    'ridership_roll_mean_7d': 'float32'\n",
    "}\n",
    "\n",
    "# Convertimos los booleanos a 0 y 1\n",
    "df_model['is_weekend'] = df_model['is_weekend'].astype('uint8')\n",
    "df_model['is_holiday'] = df_model['is_holiday'].astype('uint8')\n",
    "\n",
    "# Primero convertimos los float a int, y luego aplicamos el esquema\n",
    "df_model['days_since_last_holiday'] = df_model['days_since_last_holiday'].astype('int64')\n",
    "df_model['days_until_next_holiday'] = df_model['days_until_next_holiday'].astype('int64')\n",
    "\n",
    "# Ahora, aplicamos el esquema final sin errores\n",
    "df_model = df_model.astype(final_schema)\n",
    "\n",
    "print(\"\\nDataFrame con tipos de datos optimizados:\")\n",
    "df_model.info()"
   ],
   "id": "262ba653027e9c0",
   "outputs": [
    {
     "name": "stdout",
     "output_type": "stream",
     "text": [
      "\n",
      "DataFrame con tipos de datos optimizados:\n",
      "<class 'pandas.core.frame.DataFrame'>\n",
      "Index: 19128 entries, 168 to 19631\n",
      "Data columns (total 22 columns):\n",
      " #   Column                   Non-Null Count  Dtype   \n",
      "---  ------                   --------------  -----   \n",
      " 0   bus_route                19128 non-null  category\n",
      " 1   ridership_total          19128 non-null  uint32  \n",
      " 2   is_weekend               19128 non-null  uint8   \n",
      " 3   is_holiday               19128 non-null  uint8   \n",
      " 4   temperature_2m           19128 non-null  float32 \n",
      " 5   relative_humidity_2m     19128 non-null  float32 \n",
      " 6   weather_code             19128 non-null  uint8   \n",
      " 7   wind_speed_10m           19128 non-null  float32 \n",
      " 8   day_of_week_sin          19128 non-null  float32 \n",
      " 9   day_of_week_cos          19128 non-null  float32 \n",
      " 10  hour_sin                 19128 non-null  float32 \n",
      " 11  hour_cos                 19128 non-null  float32 \n",
      " 12  month_sin                19128 non-null  float32 \n",
      " 13  month_cos                19128 non-null  float32 \n",
      " 14  precipitation_category   19128 non-null  category\n",
      " 15  temp_wind_interaction    19128 non-null  float32 \n",
      " 16  days_since_last_holiday  19128 non-null  uint16  \n",
      " 17  days_until_next_holiday  19128 non-null  uint16  \n",
      " 18  ridership_lag_1h         19128 non-null  float32 \n",
      " 19  ridership_lag_24h        19128 non-null  float32 \n",
      " 20  ridership_lag_1w         19128 non-null  float32 \n",
      " 21  ridership_roll_mean_7d   19128 non-null  float32 \n",
      "dtypes: category(2), float32(14), uint16(2), uint32(1), uint8(3)\n",
      "memory usage: 1.4 MB\n"
     ]
    }
   ],
   "execution_count": 4
  },
  {
   "metadata": {
    "ExecuteTime": {
     "end_time": "2025-10-15T21:54:34.504867Z",
     "start_time": "2025-10-15T21:54:34.492234Z"
    }
   },
   "cell_type": "code",
   "source": [
    "# --- PASO 8: Guardar el Dataset Final ---\n",
    "\n",
    "# Define la ruta para el nuevo fichero\n",
    "final_features_path = \"../data/model_features_v1.parquet\"\n",
    "\n",
    "# Guarda el DataFrame en formato Parquet\n",
    "df_model.to_parquet(final_features_path, index=False)\n",
    "\n",
    "print(f\"\\n✅ ¡Éxito! Dataset final con {len(df_model.columns)} características guardado en: {final_features_path}\")"
   ],
   "id": "91b3a5f2a8dd53cf",
   "outputs": [
    {
     "name": "stdout",
     "output_type": "stream",
     "text": [
      "\n",
      "✅ ¡Éxito! Dataset final con 22 características guardado en: ../data/model_features_v1.parquet\n"
     ]
    }
   ],
   "execution_count": 5
  }
 ],
 "metadata": {
  "kernelspec": {
   "display_name": "Python 3",
   "language": "python",
   "name": "python3"
  },
  "language_info": {
   "codemirror_mode": {
    "name": "ipython",
    "version": 2
   },
   "file_extension": ".py",
   "mimetype": "text/x-python",
   "name": "python",
   "nbconvert_exporter": "python",
   "pygments_lexer": "ipython2",
   "version": "2.7.6"
  }
 },
 "nbformat": 4,
 "nbformat_minor": 5
}
