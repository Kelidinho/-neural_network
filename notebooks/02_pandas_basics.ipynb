{
 "cells": [
  {
   "cell_type": "code",
   "id": "initial_id",
   "metadata": {
    "collapsed": true,
    "ExecuteTime": {
     "end_time": "2025-10-05T18:41:11.569406Z",
     "start_time": "2025-10-05T18:41:11.362255Z"
    }
   },
   "source": [
    "import pandas as pd\n",
    "import numpy as np\n",
    "\n",
    "my_array = np.array([10,20,30,40])\n",
    "array_ventas = np.array(['ventas_norte', 'ventas_sur', 'ventas_este', 'ventas_oeste'])"
   ],
   "outputs": [],
   "execution_count": 1
  },
  {
   "metadata": {
    "ExecuteTime": {
     "end_time": "2025-10-05T18:41:11.578382Z",
     "start_time": "2025-10-05T18:41:11.575905Z"
    }
   },
   "cell_type": "code",
   "source": [
    "my_array_pandas = pd.Series(my_array, index=array_ventas)\n",
    "print(f'Array con pandas: {my_array_pandas}')"
   ],
   "id": "4d0264a60d83bd10",
   "outputs": [
    {
     "name": "stdout",
     "output_type": "stream",
     "text": [
      "Array con pandas: ventas_norte    10\n",
      "ventas_sur      20\n",
      "ventas_este     30\n",
      "ventas_oeste    40\n",
      "dtype: int64\n"
     ]
    }
   ],
   "execution_count": 2
  },
  {
   "metadata": {
    "ExecuteTime": {
     "end_time": "2025-10-05T18:41:11.625042Z",
     "start_time": "2025-10-05T18:41:11.622565Z"
    }
   },
   "cell_type": "code",
   "source": [
    "\n",
    "print(my_array_pandas['ventas_sur'])"
   ],
   "id": "90dc733b6e68fc78",
   "outputs": [
    {
     "name": "stdout",
     "output_type": "stream",
     "text": [
      "20\n"
     ]
    }
   ],
   "execution_count": 3
  },
  {
   "metadata": {
    "ExecuteTime": {
     "end_time": "2025-10-05T18:42:52.914392Z",
     "start_time": "2025-10-05T18:42:52.911775Z"
    }
   },
   "cell_type": "code",
   "source": [
    "datos_ventas = pd.DataFrame(data=np.array(\n",
    "[    ['Norte', 'Sur', 'Este', 'Oeste'],\n",
    "    [100, 250, 175, 120],\n",
    "    ['Q1', 'Q1', 'Q1', 'Q1']]\n",
    "), index=['zona', 'unidades_vendidas', 'trimestre'])\n",
    "print(datos_ventas)"
   ],
   "id": "3d56b9f40b041926",
   "outputs": [
    {
     "name": "stdout",
     "output_type": "stream",
     "text": [
      "                       0    1     2      3\n",
      "zona               Norte  Sur  Este  Oeste\n",
      "unidades_vendidas    100  250   175    120\n",
      "trimestre             Q1   Q1    Q1     Q1\n"
     ]
    }
   ],
   "execution_count": 6
  },
  {
   "metadata": {
    "ExecuteTime": {
     "end_time": "2025-10-05T18:51:19.061381Z",
     "start_time": "2025-10-05T18:51:19.056058Z"
    }
   },
   "cell_type": "code",
   "source": [
    "datos_ventas_v2 = {\n",
    "    'zona': ['Norte', 'Sur', 'Este', 'Oeste'],\n",
    "    'unidades_vendidas': [100, 250, 175, 120],\n",
    "    'trimestre': ['Q1', 'Q1', 'Q1', 'Q1']\n",
    "}\n",
    "\n",
    "df_ventas = pd.DataFrame(datos_ventas_v2)\n",
    "print(df_ventas)\n",
    "print(df_ventas.info())"
   ],
   "id": "9319bac31b49ecc6",
   "outputs": [
    {
     "name": "stdout",
     "output_type": "stream",
     "text": [
      "    zona  unidades_vendidas trimestre\n",
      "0  Norte                100        Q1\n",
      "1    Sur                250        Q1\n",
      "2   Este                175        Q1\n",
      "3  Oeste                120        Q1\n",
      "<class 'pandas.core.frame.DataFrame'>\n",
      "RangeIndex: 4 entries, 0 to 3\n",
      "Data columns (total 3 columns):\n",
      " #   Column             Non-Null Count  Dtype \n",
      "---  ------             --------------  ----- \n",
      " 0   zona               4 non-null      object\n",
      " 1   unidades_vendidas  4 non-null      int64 \n",
      " 2   trimestre          4 non-null      object\n",
      "dtypes: int64(1), object(2)\n",
      "memory usage: 228.0+ bytes\n",
      "None\n"
     ]
    }
   ],
   "execution_count": 14
  },
  {
   "metadata": {
    "ExecuteTime": {
     "end_time": "2025-10-05T18:49:03.278176Z",
     "start_time": "2025-10-05T18:49:03.270083Z"
    }
   },
   "cell_type": "code",
   "source": [
    "datos_np = np.array([\n",
    "    ['Norte', '100', 'Q1'],\n",
    "    ['Sur', '250', 'Q1'],\n",
    "    ['Este', '175', 'Q1'],\n",
    "    ['Oeste', '120', 'Q1']\n",
    "])\n",
    "\n",
    "df_ventas_v2 = pd.DataFrame(data=datos_np, columns=['zona', 'unidades_vendidas', 'trimestre'])\n",
    "print(df_ventas_v2)\n",
    "print(df_ventas_v2.info())"
   ],
   "id": "71f49fb24aa3b60",
   "outputs": [
    {
     "name": "stdout",
     "output_type": "stream",
     "text": [
      "    zona unidades_vendidas trimestre\n",
      "0  Norte               100        Q1\n",
      "1    Sur               250        Q1\n",
      "2   Este               175        Q1\n",
      "3  Oeste               120        Q1\n",
      "<class 'pandas.core.frame.DataFrame'>\n",
      "RangeIndex: 4 entries, 0 to 3\n",
      "Data columns (total 3 columns):\n",
      " #   Column             Non-Null Count  Dtype \n",
      "---  ------             --------------  ----- \n",
      " 0   zona               4 non-null      object\n",
      " 1   unidades_vendidas  4 non-null      object\n",
      " 2   trimestre          4 non-null      object\n",
      "dtypes: object(3)\n",
      "memory usage: 228.0+ bytes\n",
      "None\n"
     ]
    }
   ],
   "execution_count": 13
  }
 ],
 "metadata": {
  "kernelspec": {
   "display_name": "Python 3",
   "language": "python",
   "name": "python3"
  },
  "language_info": {
   "codemirror_mode": {
    "name": "ipython",
    "version": 2
   },
   "file_extension": ".py",
   "mimetype": "text/x-python",
   "name": "python",
   "nbconvert_exporter": "python",
   "pygments_lexer": "ipython2",
   "version": "2.7.6"
  }
 },
 "nbformat": 4,
 "nbformat_minor": 5
}
