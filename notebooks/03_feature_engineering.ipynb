{
 "cells": [
  {
   "cell_type": "code",
   "id": "initial_id",
   "metadata": {
    "collapsed": true,
    "ExecuteTime": {
     "end_time": "2025-10-15T21:26:30.796913Z",
     "start_time": "2025-10-15T21:26:30.791891Z"
    }
   },
   "source": [
    "import pandas as pd\n",
    "import numpy as np\n",
    "\n",
    "model_input_path = \"../data/model_input.parquet\"\n",
    "\n",
    "df_model_input = pd.read_parquet(model_input_path)"
   ],
   "outputs": [],
   "execution_count": 31
  },
  {
   "metadata": {
    "ExecuteTime": {
     "end_time": "2025-10-15T21:26:30.808714Z",
     "start_time": "2025-10-15T21:26:30.801216Z"
    }
   },
   "cell_type": "code",
   "source": [
    "# --- Característica 1: Día de la Semana ---\n",
    "# El ciclo tiene 7 periodos (de 0 a 6)\n",
    "df_model_input['day_of_week_sin'] = np.sin(2 * np.pi * df_model_input['day_of_week'] / 7)\n",
    "df_model_input['day_of_week_cos'] = np.cos(2 * np.pi * df_model_input['day_of_week'] / 7)\n",
    "\n",
    "# --- Característica 2: Hora del Día ---\n",
    "# El ciclo tiene 24 periodos (de 0 a 23)\n",
    "df_model_input['hour_sin'] = np.sin(2 * np.pi * df_model_input['hour'] / 24)\n",
    "df_model_input['hour_cos'] = np.cos(2 * np.pi * df_model_input['hour'] / 24)\n",
    "\n",
    "# --- Característica 3: Mes del Año ---\n",
    "# El ciclo tiene 12 periodos (de 1 a 12)\n",
    "df_model_input['month_sin'] = np.sin(2 * np.pi * df_model_input['month'] / 12)\n",
    "df_model_input['month_cos'] = np.cos(2 * np.pi * df_model_input['month'] / 12)\n",
    "\n",
    "\n",
    "# Veamos las nuevas columnas que hemos creado\n",
    "print(df_model_input[['day_of_week', 'day_of_week_sin', 'day_of_week_cos']].head())"
   ],
   "id": "3f61d91b5f20bc04",
   "outputs": [
    {
     "name": "stdout",
     "output_type": "stream",
     "text": [
      "   day_of_week  day_of_week_sin  day_of_week_cos\n",
      "0            6        -0.781831          0.62349\n",
      "1            6        -0.781831          0.62349\n",
      "2            6        -0.781831          0.62349\n",
      "3            6        -0.781831          0.62349\n",
      "4            6        -0.781831          0.62349\n"
     ]
    }
   ],
   "execution_count": 32
  },
  {
   "metadata": {
    "ExecuteTime": {
     "end_time": "2025-10-15T21:26:30.853825Z",
     "start_time": "2025-10-15T21:26:30.848674Z"
    }
   },
   "cell_type": "code",
   "source": [
    "# --- Característica 4: Demanda en la Hora Anterior (Lag de 1 hora) ---\n",
    "\n",
    "# Ordenamos los datos para asegurarnos de que el retraso se calcula correctamente\n",
    "# para cada ruta de autobús por separado.\n",
    "df_model_input = df_model_input.sort_values(by=['bus_route', 'hour_timestamp'])\n",
    "\n",
    "# Creamos la nueva columna. .shift(1) desplaza los datos una fila hacia abajo.\n",
    "# Lo agrupamos por 'bus_route' para que el lag no \"salte\" de una ruta a otra.\n",
    "df_model_input['ridership_lag_1h'] = df_model_input.groupby('bus_route', observed=False)['ridership_total'].shift(1)\n",
    "\n",
    "# Veamos el resultado. Fíjate en la primera fila de cada ruta.\n",
    "print(df_model_input[['bus_route', 'hour_timestamp', 'ridership_total', 'ridership_lag_1h']].head())"
   ],
   "id": "dfdb0d904a776c74",
   "outputs": [
    {
     "name": "stdout",
     "output_type": "stream",
     "text": [
      "  bus_route      hour_timestamp  ridership_total  ridership_lag_1h\n",
      "0       M15 2023-01-01 00:00:00              323               NaN\n",
      "1       M15 2023-01-01 01:00:00              300             323.0\n",
      "2       M15 2023-01-01 02:00:00              144             300.0\n",
      "3       M15 2023-01-01 03:00:00              101             144.0\n",
      "4       M15 2023-01-01 04:00:00               38             101.0\n"
     ]
    }
   ],
   "execution_count": 33
  },
  {
   "metadata": {
    "ExecuteTime": {
     "end_time": "2025-10-15T21:26:30.897705Z",
     "start_time": "2025-10-15T21:26:30.894506Z"
    }
   },
   "cell_type": "code",
   "source": [
    "# --- Manejo de Valores Faltantes ---\n",
    "\n",
    "# Guardamos el número de filas antes de limpiar para ver el cambio\n",
    "filas_antes = len(df_model_input)\n",
    "print(f\"Número de filas antes de limpiar los NaN: {filas_antes}\")\n",
    "\n",
    "# Eliminamos todas las filas que contengan cualquier valor NaN\n",
    "df_model_input = df_model_input.dropna()\n",
    "\n",
    "filas_despues = len(df_model_input)\n",
    "print(f\"Número de filas después de limpiar los NaN: {filas_despues}\")\n",
    "print(f\"Se eliminaron {filas_antes - filas_despues} filas.\")"
   ],
   "id": "a390679d8e53ef12",
   "outputs": [
    {
     "name": "stdout",
     "output_type": "stream",
     "text": [
      "Número de filas antes de limpiar los NaN: 19632\n",
      "Número de filas después de limpiar los NaN: 19629\n",
      "Se eliminaron 3 filas.\n"
     ]
    }
   ],
   "execution_count": 34
  },
  {
   "metadata": {
    "ExecuteTime": {
     "end_time": "2025-10-15T21:26:30.947743Z",
     "start_time": "2025-10-15T21:26:30.941413Z"
    }
   },
   "cell_type": "code",
   "source": [
    "# --- Característica 5: Demanda del Día Anterior (Lag de 24 horas) ---\n",
    "\n",
    "# Usamos .shift(24) para obtener el valor de ridership de exactamente 24 horas antes\n",
    "# para la misma ruta de autobús.\n",
    "df_model_input['ridership_lag_24h'] = df_model_input.groupby('bus_route', observed=False)['ridership_total'].shift(24)\n",
    "\n",
    "# --- Manejo de Valores Faltantes ---\n",
    "\n",
    "# Ahora, vamos a limpiar los NaNs generados por este nuevo lag\n",
    "filas_antes = len(df_model_input)\n",
    "print(f\"Filas antes de limpiar el lag de 24h: {filas_antes}\")\n",
    "\n",
    "df_model_input = df_model_input.dropna()\n",
    "\n",
    "filas_despues = len(df_model_input)\n",
    "print(f\"Filas después de limpiar el lag de 24h: {filas_despues}\")\n",
    "print(f\"Se eliminaron {filas_antes - filas_despues} filas.\")\n",
    "\n",
    "# Veamos el resultado\n",
    "print(\"\\nDataFrame con lag de 1h y 24h:\")\n",
    "print(df_model_input[['bus_route', 'hour_timestamp', 'ridership_total', 'ridership_lag_1h', 'ridership_lag_24h']].head())"
   ],
   "id": "871bfaef43646e8c",
   "outputs": [
    {
     "name": "stdout",
     "output_type": "stream",
     "text": [
      "Filas antes de limpiar el lag de 24h: 19629\n",
      "Filas después de limpiar el lag de 24h: 19557\n",
      "Se eliminaron 72 filas.\n",
      "\n",
      "DataFrame con lag de 1h y 24h:\n",
      "   bus_route      hour_timestamp  ridership_total  ridership_lag_1h  \\\n",
      "25       M15 2023-01-02 01:00:00               45              92.0   \n",
      "26       M15 2023-01-02 02:00:00                8              45.0   \n",
      "27       M15 2023-01-02 03:00:00               12               8.0   \n",
      "28       M15 2023-01-02 04:00:00               51              12.0   \n",
      "29       M15 2023-01-02 05:00:00              142              51.0   \n",
      "\n",
      "    ridership_lag_24h  \n",
      "25              300.0  \n",
      "26              144.0  \n",
      "27              101.0  \n",
      "28               38.0  \n",
      "29               60.0  \n"
     ]
    }
   ],
   "execution_count": 35
  },
  {
   "metadata": {
    "ExecuteTime": {
     "end_time": "2025-10-15T21:26:30.994466Z",
     "start_time": "2025-10-15T21:26:30.988121Z"
    }
   },
   "cell_type": "code",
   "source": [
    "# --- Característica 6: Demanda de la semana anterior ---\n",
    "\n",
    "\n",
    "df_model_input['ridership_lag_1_week'] = df_model_input.groupby('bus_route', observed=False)['ridership_total'].shift(24*7)\n",
    "\n",
    "# --- Manejo de Valores Faltantes ---\n",
    "\n",
    "# Ahora, vamos a limpiar los NaNs generados por este nuevo lag\n",
    "filas_antes = len(df_model_input)\n",
    "print(f\"Filas antes de limpiar: {filas_antes}\")\n",
    "\n",
    "df_model_input = df_model_input.dropna()\n",
    "\n",
    "filas_despues = len(df_model_input)\n",
    "print(f\"Filas después de limpiar el lag: {filas_despues}\")\n",
    "print(f\"Se eliminaron {filas_antes - filas_despues} filas.\")\n",
    "\n",
    "# Veamos el resultado\n",
    "print(df_model_input[['bus_route', 'hour_timestamp', 'ridership_total', 'ridership_lag_24h', 'ridership_lag_1_week']].head())"
   ],
   "id": "9aa569f91bff6585",
   "outputs": [
    {
     "name": "stdout",
     "output_type": "stream",
     "text": [
      "Filas antes de limpiar: 19557\n",
      "Filas después de limpiar el lag: 19053\n",
      "Se eliminaron 504 filas.\n",
      "    bus_route      hour_timestamp  ridership_total  ridership_lag_24h  \\\n",
      "193       M15 2023-01-09 01:00:00               26               71.0   \n",
      "194       M15 2023-01-09 02:00:00               11               46.0   \n",
      "195       M15 2023-01-09 03:00:00               23               33.0   \n",
      "196       M15 2023-01-09 04:00:00               76               34.0   \n",
      "197       M15 2023-01-09 05:00:00              154               86.0   \n",
      "\n",
      "     ridership_lag_1_week  \n",
      "193                  45.0  \n",
      "194                   8.0  \n",
      "195                  12.0  \n",
      "196                  51.0  \n",
      "197                 142.0  \n"
     ]
    }
   ],
   "execution_count": 36
  },
  {
   "metadata": {
    "ExecuteTime": {
     "end_time": "2025-10-15T21:26:50.341991Z",
     "start_time": "2025-10-15T21:26:50.335350Z"
    }
   },
   "cell_type": "code",
   "source": [
    "# --- Característica 7: Media Móvil de los últimos 7 días ---\n",
    "\n",
    "# Define el tamaño de la ventana para 7 días (en horas)\n",
    "WINDOW_SIZE_7D = 24*7  # <--- COMPLETA ESTO\n",
    "\n",
    "# Calculamos la media móvil\n",
    "df_model_input['ridership_roll_mean_7d'] = df_model_input.groupby('bus_route', observed=False)['ridership_total'].rolling(window=WINDOW_SIZE_7D).mean().reset_index(level=0, drop=True)\n",
    "\n",
    "# Como siempre, las primeras filas no tendrán suficientes datos para llenar la ventana, así que limpiamos los NaN\n",
    "df_model_input = df_model_input.dropna()\n",
    "\n",
    "print(df_model_input[['bus_route', 'hour_timestamp', 'ridership_total', 'ridership_roll_mean_7d']].head())\n",
    "\n"
   ],
   "id": "ea774c3f956b814d",
   "outputs": [
    {
     "name": "stdout",
     "output_type": "stream",
     "text": [
      "    bus_route      hour_timestamp  ridership_total  ridership_roll_mean_7d\n",
      "167       M15 2023-01-22 23:00:00              181              438.958333\n",
      "168       M15 2023-01-23 00:00:00               82              438.601190\n",
      "169       M15 2023-01-23 01:00:00               24              438.404762\n",
      "170       M15 2023-01-23 02:00:00               13              438.303571\n",
      "171       M15 2023-01-23 03:00:00               24              438.339286\n"
     ]
    }
   ],
   "execution_count": 38
  },
  {
   "metadata": {
    "ExecuteTime": {
     "end_time": "2025-10-15T21:31:59.752802Z",
     "start_time": "2025-10-15T21:31:59.748071Z"
    }
   },
   "cell_type": "code",
   "source": [
    "# --- Feature 8: Precipitation Category ---\n",
    "\n",
    "# Define the bin edges for our categories\n",
    "bin_edges = [-1, 0, 1, 5, float('inf')] # from -1 to 0, >0 to 1, >1 to 5, and >5\n",
    "bin_labels = ['0_no_rain', '1_light_rain', '2_moderate_rain', '3_heavy_rain']\n",
    "\n",
    "# Use pd.cut to create the new column\n",
    "df_model_input['precipitation_category'] = pd.cut(df_model_input['precipitation'], bins=bin_edges, labels=bin_labels)\n",
    "\n",
    "# Let's see the result\n",
    "print(df_model_input[['precipitation', 'precipitation_category']].head())"
   ],
   "id": "92847fa2ffaae5ce",
   "outputs": [
    {
     "name": "stdout",
     "output_type": "stream",
     "text": [
      "     precipitation precipitation_category\n",
      "167            0.1           1_light_rain\n",
      "168            0.6           1_light_rain\n",
      "169            1.7        2_moderate_rain\n",
      "170            1.6        2_moderate_rain\n",
      "171            1.3        2_moderate_rain\n"
     ]
    }
   ],
   "execution_count": 39
  },
  {
   "metadata": {
    "ExecuteTime": {
     "end_time": "2025-10-15T21:32:21.685015Z",
     "start_time": "2025-10-15T21:32:21.680708Z"
    }
   },
   "cell_type": "code",
   "source": [
    "# --- Feature 9: Temperature and Wind Interaction ---\n",
    "\n",
    "# Create the interaction feature\n",
    "df_model_input['temp_wind_interaction'] = df_model_input['temperature_2m'] / (df_model_input['wind_speed_10m'] + 1)\n",
    "\n",
    "# Let's see the result\n",
    "print(df_model_input[['temperature_2m', 'wind_speed_10m', 'temp_wind_interaction']].head())"
   ],
   "id": "ffd790d3ce272a0b",
   "outputs": [
    {
     "name": "stdout",
     "output_type": "stream",
     "text": [
      "     temperature_2m  wind_speed_10m  temp_wind_interaction\n",
      "167             4.0             3.4               0.909091\n",
      "168             1.5             9.4               0.144231\n",
      "169             1.8            11.9               0.139535\n",
      "170             1.8            12.4               0.134328\n",
      "171             1.9            13.4               0.131944\n"
     ]
    }
   ],
   "execution_count": 40
  },
  {
   "metadata": {
    "ExecuteTime": {
     "end_time": "2025-10-15T21:37:09.888430Z",
     "start_time": "2025-10-15T21:37:09.880253Z"
    }
   },
   "cell_type": "code",
   "source": [
    "# --- Característica 10 y 11: Proximidad a Días Festivos ---\n",
    "\n",
    "# Nos aseguramos de que el DataFrame esté ordenado por fecha\n",
    "df_model_input = df_model_input.sort_values(by='hour_timestamp')\n",
    "\n",
    "# Creamos una serie que solo contiene las fechas de los días festivos\n",
    "holidays = df_model_input[df_model_input['is_holiday']].index\n",
    "\n",
    "# Creamos una serie temporal vacía con el mismo índice que nuestro DataFrame\n",
    "# para almacenar los resultados\n",
    "ts = pd.Series(index=df_model_input.index, dtype='datetime64[ns]')\n",
    "\n",
    "# Para cada día festivo, lo marcamos en nuestra nueva serie temporal\n",
    "ts.loc[holidays] = df_model_input.loc[holidays, 'hour_timestamp']\n",
    "\n",
    "# Usamos 'forward fill' y 'backward fill' para propagar las fechas de los festivos\n",
    "# a todas las filas del DataFrame\n",
    "# ffill() rellena hacia adelante (dándonos la fecha del último festivo)\n",
    "# bfill() rellena hacia atrás (dándonos la fecha del próximo festivo)\n",
    "last_holiday = ts.ffill()\n",
    "next_holiday = ts.bfill()\n",
    "\n",
    "# Calculamos la diferencia en días entre la fecha actual y el festivo más cercano\n",
    "# y lo convertimos a un número entero de días\n",
    "df_model_input['days_since_last_holiday'] = (df_model_input['hour_timestamp'] - last_holiday).dt.days\n",
    "df_model_input['days_until_next_holiday'] = (next_holiday - df_model_input['hour_timestamp']).dt.days\n",
    "\n",
    "# Rellenamos cualquier posible NaN al principio o al final del dataset con un valor alto\n",
    "df_model_input['days_since_last_holiday'].fillna(999, inplace=True)\n",
    "df_model_input['days_until_next_holiday'].fillna(999, inplace=True)\n",
    "\n",
    "\n",
    "# Veamos el resultado\n",
    "print(df_model_input[['hour_timestamp', 'is_holiday', 'days_since_last_holiday', 'days_until_next_holiday']].head())"
   ],
   "id": "49f5366c55230b58",
   "outputs": [
    {
     "name": "stdout",
     "output_type": "stream",
     "text": [
      "          hour_timestamp  is_holiday  days_since_last_holiday  \\\n",
      "167  2023-01-22 23:00:00       False                    999.0   \n",
      "8566 2023-01-22 23:00:00       False                    999.0   \n",
      "8567 2023-01-23 00:00:00       False                    999.0   \n",
      "168  2023-01-23 00:00:00       False                    999.0   \n",
      "169  2023-01-23 01:00:00       False                    999.0   \n",
      "\n",
      "      days_until_next_holiday  \n",
      "167                      20.0  \n",
      "8566                     20.0  \n",
      "8567                     20.0  \n",
      "168                      20.0  \n",
      "169                      19.0  \n"
     ]
    }
   ],
   "execution_count": 42
  }
 ],
 "metadata": {
  "kernelspec": {
   "display_name": "Python 3",
   "language": "python",
   "name": "python3"
  },
  "language_info": {
   "codemirror_mode": {
    "name": "ipython",
    "version": 2
   },
   "file_extension": ".py",
   "mimetype": "text/x-python",
   "name": "python",
   "nbconvert_exporter": "python",
   "pygments_lexer": "ipython2",
   "version": "2.7.6"
  }
 },
 "nbformat": 4,
 "nbformat_minor": 5
}
