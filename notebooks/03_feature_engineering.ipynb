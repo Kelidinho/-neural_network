{
 "cells": [
  {
   "cell_type": "code",
   "id": "initial_id",
   "metadata": {
    "collapsed": true,
    "ExecuteTime": {
     "end_time": "2025-10-15T20:22:08.464219Z",
     "start_time": "2025-10-15T20:22:08.452268Z"
    }
   },
   "source": [
    "import pandas as pd\n",
    "import numpy as np\n",
    "\n",
    "model_input_path = \"../data/model_input.parquet\"\n",
    "\n",
    "df_model_input = pd.read_parquet(model_input_path)"
   ],
   "outputs": [],
   "execution_count": 2
  },
  {
   "metadata": {
    "ExecuteTime": {
     "end_time": "2025-10-15T20:24:26.652455Z",
     "start_time": "2025-10-15T20:24:26.645179Z"
    }
   },
   "cell_type": "code",
   "source": [
    "# --- Característica 1: Día de la Semana ---\n",
    "# El ciclo tiene 7 periodos (de 0 a 6)\n",
    "df_model_input['day_of_week_sin'] = np.sin(2 * np.pi * df_model_input['day_of_week'] / 7)\n",
    "df_model_input['day_of_week_cos'] = np.cos(2 * np.pi * df_model_input['day_of_week'] / 7)\n",
    "\n",
    "# --- Característica 2: Hora del Día ---\n",
    "# El ciclo tiene 24 periodos (de 0 a 23)\n",
    "df_model_input['hour_sin'] = np.sin(2 * np.pi * df_model_input['hour'] / 24)\n",
    "df_model_input['hour_cos'] = np.cos(2 * np.pi * df_model_input['hour'] / 24)\n",
    "\n",
    "# --- Característica 3: Mes del Año ---\n",
    "# El ciclo tiene 12 periodos (de 1 a 12)\n",
    "df_model_input['month_sin'] = np.sin(2 * np.pi * df_model_input['month'] / 12)\n",
    "df_model_input['month_cos'] = np.cos(2 * np.pi * df_model_input['month'] / 12)\n",
    "\n",
    "\n",
    "# Veamos las nuevas columnas que hemos creado\n",
    "print(df_model_input[['day_of_week', 'day_of_week_sin', 'day_of_week_cos']].head())"
   ],
   "id": "3f61d91b5f20bc04",
   "outputs": [
    {
     "name": "stdout",
     "output_type": "stream",
     "text": [
      "   day_of_week  day_of_week_sin  day_of_week_cos\n",
      "0            6        -0.781831          0.62349\n",
      "1            6        -0.781831          0.62349\n",
      "2            6        -0.781831          0.62349\n",
      "3            6        -0.781831          0.62349\n",
      "4            6        -0.781831          0.62349\n"
     ]
    }
   ],
   "execution_count": 3
  },
  {
   "metadata": {
    "ExecuteTime": {
     "end_time": "2025-10-15T20:33:57.473796Z",
     "start_time": "2025-10-15T20:33:57.467528Z"
    }
   },
   "cell_type": "code",
   "source": [
    "# --- Característica 4: Demanda en la Hora Anterior (Lag de 1 hora) ---\n",
    "\n",
    "# Ordenamos los datos para asegurarnos de que el retraso se calcula correctamente\n",
    "# para cada ruta de autobús por separado.\n",
    "df_model_input = df_model_input.sort_values(by=['bus_route', 'hour_timestamp'])\n",
    "\n",
    "# Creamos la nueva columna. .shift(1) desplaza los datos una fila hacia abajo.\n",
    "# Lo agrupamos por 'bus_route' para que el lag no \"salte\" de una ruta a otra.\n",
    "df_model_input['ridership_lag_1h'] = df_model_input.groupby('bus_route', observed=False)['ridership_total'].shift(1)\n",
    "\n",
    "# Veamos el resultado. Fíjate en la primera fila de cada ruta.\n",
    "print(df_model_input[['bus_route', 'hour_timestamp', 'ridership_total', 'ridership_lag_1h']].head())"
   ],
   "id": "dfdb0d904a776c74",
   "outputs": [
    {
     "name": "stdout",
     "output_type": "stream",
     "text": [
      "  bus_route      hour_timestamp  ridership_total  ridership_lag_1h\n",
      "0       M15 2023-01-01 00:00:00              323               NaN\n",
      "1       M15 2023-01-01 01:00:00              300             323.0\n",
      "2       M15 2023-01-01 02:00:00              144             300.0\n",
      "3       M15 2023-01-01 03:00:00              101             144.0\n",
      "4       M15 2023-01-01 04:00:00               38             101.0\n"
     ]
    }
   ],
   "execution_count": 5
  },
  {
   "metadata": {
    "ExecuteTime": {
     "end_time": "2025-10-15T20:38:03.171294Z",
     "start_time": "2025-10-15T20:38:03.167316Z"
    }
   },
   "cell_type": "code",
   "source": [
    "# --- Manejo de Valores Faltantes ---\n",
    "\n",
    "# Guardamos el número de filas antes de limpiar para ver el cambio\n",
    "filas_antes = len(df_model_input)\n",
    "print(f\"Número de filas antes de limpiar los NaN: {filas_antes}\")\n",
    "\n",
    "# Eliminamos todas las filas que contengan cualquier valor NaN\n",
    "df_model_input = df_model_input.dropna()\n",
    "\n",
    "filas_despues = len(df_model_input)\n",
    "print(f\"Número de filas después de limpiar los NaN: {filas_despues}\")\n",
    "print(f\"Se eliminaron {filas_antes - filas_despues} filas.\")"
   ],
   "id": "a390679d8e53ef12",
   "outputs": [
    {
     "name": "stdout",
     "output_type": "stream",
     "text": [
      "Número de filas antes de limpiar los NaN: 19632\n",
      "Número de filas después de limpiar los NaN: 19629\n",
      "Se eliminaron 3 filas.\n"
     ]
    }
   ],
   "execution_count": 6
  },
  {
   "metadata": {
    "ExecuteTime": {
     "end_time": "2025-10-15T20:40:32.500073Z",
     "start_time": "2025-10-15T20:40:32.493651Z"
    }
   },
   "cell_type": "code",
   "source": [
    "# --- Característica 5: Demanda del Día Anterior (Lag de 24 horas) ---\n",
    "\n",
    "# Usamos .shift(24) para obtener el valor de ridership de exactamente 24 horas antes\n",
    "# para la misma ruta de autobús.\n",
    "df_model_input['ridership_lag_24h'] = df_model_input.groupby('bus_route', observed=False)['ridership_total'].shift(24)\n",
    "\n",
    "# --- Manejo de Valores Faltantes ---\n",
    "\n",
    "# Ahora, vamos a limpiar los NaNs generados por este nuevo lag\n",
    "filas_antes = len(df_model_input)\n",
    "print(f\"Filas antes de limpiar el lag de 24h: {filas_antes}\")\n",
    "\n",
    "df_model_input = df_model_input.dropna()\n",
    "\n",
    "filas_despues = len(df_model_input)\n",
    "print(f\"Filas después de limpiar el lag de 24h: {filas_despues}\")\n",
    "print(f\"Se eliminaron {filas_antes - filas_despues} filas.\")\n",
    "\n",
    "# Veamos el resultado\n",
    "print(\"\\nDataFrame con lag de 1h y 24h:\")\n",
    "print(df_model_input[['bus_route', 'hour_timestamp', 'ridership_total', 'ridership_lag_1h', 'ridership_lag_24h']].head())"
   ],
   "id": "871bfaef43646e8c",
   "outputs": [
    {
     "name": "stdout",
     "output_type": "stream",
     "text": [
      "Filas antes de limpiar el lag de 24h: 19629\n",
      "Filas después de limpiar el lag de 24h: 19557\n",
      "Se eliminaron 72 filas.\n",
      "\n",
      "DataFrame con lag de 1h y 24h:\n",
      "   bus_route      hour_timestamp  ridership_total  ridership_lag_1h  \\\n",
      "25       M15 2023-01-02 01:00:00               45              92.0   \n",
      "26       M15 2023-01-02 02:00:00                8              45.0   \n",
      "27       M15 2023-01-02 03:00:00               12               8.0   \n",
      "28       M15 2023-01-02 04:00:00               51              12.0   \n",
      "29       M15 2023-01-02 05:00:00              142              51.0   \n",
      "\n",
      "    ridership_lag_24h  \n",
      "25              300.0  \n",
      "26              144.0  \n",
      "27              101.0  \n",
      "28               38.0  \n",
      "29               60.0  \n"
     ]
    }
   ],
   "execution_count": 7
  },
  {
   "metadata": {
    "ExecuteTime": {
     "end_time": "2025-10-15T21:01:38.525267Z",
     "start_time": "2025-10-15T21:01:38.518469Z"
    }
   },
   "cell_type": "code",
   "source": [
    "# --- Característica 6: Demanda de la semana anterior ---\n",
    "\n",
    "\n",
    "df_model_input['ridership_lag_1_week'] = df_model_input.groupby('bus_route', observed=False)['ridership_total'].shift(24*7)\n",
    "\n",
    "# --- Manejo de Valores Faltantes ---\n",
    "\n",
    "# Ahora, vamos a limpiar los NaNs generados por este nuevo lag\n",
    "filas_antes = len(df_model_input)\n",
    "print(f\"Filas antes de limpiar: {filas_antes}\")\n",
    "\n",
    "df_model_input = df_model_input.dropna()\n",
    "\n",
    "filas_despues = len(df_model_input)\n",
    "print(f\"Filas después de limpiar el lag: {filas_despues}\")\n",
    "print(f\"Se eliminaron {filas_antes - filas_despues} filas.\")\n",
    "\n",
    "# Veamos el resultado\n",
    "print(df_model_input[['bus_route', 'hour_timestamp', 'ridership_total', 'ridership_lag_24h', 'ridership_lag_1_week']].head())"
   ],
   "id": "9aa569f91bff6585",
   "outputs": [
    {
     "name": "stdout",
     "output_type": "stream",
     "text": [
      "Filas antes de limpiar: 19557\n",
      "Filas después de limpiar el lag: 19053\n",
      "Se eliminaron 504 filas.\n",
      "    bus_route      hour_timestamp  ridership_total  ridership_lag_24h  \\\n",
      "193       M15 2023-01-09 01:00:00               26               71.0   \n",
      "194       M15 2023-01-09 02:00:00               11               46.0   \n",
      "195       M15 2023-01-09 03:00:00               23               33.0   \n",
      "196       M15 2023-01-09 04:00:00               76               34.0   \n",
      "197       M15 2023-01-09 05:00:00              154               86.0   \n",
      "\n",
      "     ridership_lag_1_week  \n",
      "193                  45.0  \n",
      "194                   8.0  \n",
      "195                  12.0  \n",
      "196                  51.0  \n",
      "197                 142.0  \n"
     ]
    }
   ],
   "execution_count": 8
  }
 ],
 "metadata": {
  "kernelspec": {
   "display_name": "Python 3",
   "language": "python",
   "name": "python3"
  },
  "language_info": {
   "codemirror_mode": {
    "name": "ipython",
    "version": 2
   },
   "file_extension": ".py",
   "mimetype": "text/x-python",
   "name": "python",
   "nbconvert_exporter": "python",
   "pygments_lexer": "ipython2",
   "version": "2.7.6"
  }
 },
 "nbformat": 4,
 "nbformat_minor": 5
}
